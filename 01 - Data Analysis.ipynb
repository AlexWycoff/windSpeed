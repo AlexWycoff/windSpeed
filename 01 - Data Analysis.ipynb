{
 "cells": [
  {
   "cell_type": "markdown",
   "id": "9a5098a9c5a41514",
   "metadata": {
    "collapsed": false,
    "jupyter": {
     "outputs_hidden": false
    }
   },
   "source": [
    "## Data Analysis Notebook"
   ]
  },
  {
   "cell_type": "markdown",
   "id": "140e65f3b5bef937",
   "metadata": {
    "collapsed": false,
    "jupyter": {
     "outputs_hidden": false
    }
   },
   "source": [
    "In this notebook, we use matplotlib, geopandas, and seaborn to conduct fundamental analysis and visualize data and metadata retrieved from the Data Retrieval Notebook."
   ]
  },
  {
   "cell_type": "code",
   "execution_count": null,
   "id": "initial_id",
   "metadata": {
    "collapsed": true,
    "jupyter": {
     "outputs_hidden": true
    }
   },
   "outputs": [],
   "source": [
    "import pandas as pd\n",
    "import numpy as np\n",
    "import matplotlib.pyplot as plt\n",
    "import os\n",
    "import seaborn as sns\n",
    "import geopandas"
   ]
  },
  {
   "cell_type": "code",
   "execution_count": null,
   "id": "b7e3a379f4284094",
   "metadata": {
    "collapsed": false,
    "jupyter": {
     "outputs_hidden": false
    }
   },
   "outputs": [],
   "source": [
    "# Plot the distribution of wind speed for all 100 points at 60 min resolution\n",
    "# Noticeably, this distribution is very consistently skewed right regardless of the point\n",
    "for filename in os.listdir(r\"Data\\NOW-23 Great Lakes [2000-2020] 60min\"):\n",
    "    data = pd.read_csv(\"C:Data/NOW-23 Great Lakes [2000-2020] 60min/\" + filename, index_col=0)\n",
    "    data[\"wind speed at 80m (m/s)\"].hist(bins=50)"
   ]
  },
  {
   "cell_type": "code",
   "execution_count": null,
   "id": "ba33635b58709e53",
   "metadata": {
    "collapsed": false,
    "jupyter": {
     "outputs_hidden": false
    }
   },
   "outputs": [],
   "source": [
    "# Let's look at the wind direction data for a single point at 5 min resolution\n",
    "data = pd.read_csv(\"Data/NOW-23 Great Lakes [2000-2020] 60min/15713.csv\", index_col=0)\n",
    "\n",
    "# We can draw a nice line representing the histogram using Kernel Density Estimation\n",
    "sns.kdeplot(data[\"wind direction at 80m (deg)\"], color=\"blue\", fill=True)\n",
    "plt.show()"
   ]
  },
  {
   "cell_type": "code",
   "execution_count": null,
   "id": "4e7f4a449b8703f1",
   "metadata": {
    "collapsed": false,
    "jupyter": {
     "outputs_hidden": false
    }
   },
   "outputs": [],
   "source": [
    "# We can do the same for the wind speed\n",
    "sns.kdeplot(data[\"wind speed at 80m (m/s)\"], color=\"blue\", fill=True)\n",
    "plt.show()"
   ]
  },
  {
   "cell_type": "code",
   "execution_count": null,
   "id": "793fe1c0d2db17b0",
   "metadata": {
    "collapsed": false,
    "jupyter": {
     "outputs_hidden": false
    }
   },
   "outputs": [],
   "source": [
    "# We can make a correlation matrix to visualize the correlation between the variables\n",
    "corr_matrix = data.iloc[:, 6:9].corr()\n",
    "blue_map = sns.dark_palette(\"#69d\", reverse=False, as_cmap=True)\n",
    "sns.heatmap(corr_matrix, cmap=blue_map, annot=False)"
   ]
  },
  {
   "cell_type": "code",
   "execution_count": null,
   "id": "7fce0585d3ff7b80",
   "metadata": {
    "collapsed": false,
    "jupyter": {
     "outputs_hidden": false
    }
   },
   "outputs": [],
   "source": [
    "metadata = geopandas.read_file(r\"Data\\NOW-23 Great Lakes [2000-2020] metadata.csv\").iloc[:, 1:]\n",
    "\n",
    "gdf = geopandas.GeoDataFrame(\n",
    "    metadata, geometry=geopandas.points_from_xy(metadata['Longitude'], metadata['Latitude']), crs=\"EPSG:4326\"\n",
    ")\n",
    "\n",
    "gdf.explore(marker_type=\"circle_marker\", marker_kwds=dict(radius=7))"
   ]
  },
  {
   "cell_type": "code",
   "execution_count": null,
   "id": "d67dbad277014b24",
   "metadata": {
    "collapsed": false,
    "jupyter": {
     "outputs_hidden": false
    }
   },
   "outputs": [],
   "source": []
  }
 ],
 "metadata": {
  "kernelspec": {
   "display_name": "Python 3 (ipykernel)",
   "language": "python",
   "name": "python3"
  },
  "language_info": {
   "codemirror_mode": {
    "name": "ipython",
    "version": 3
   },
   "file_extension": ".py",
   "mimetype": "text/x-python",
   "name": "python",
   "nbconvert_exporter": "python",
   "pygments_lexer": "ipython3",
   "version": "3.11.7"
  }
 },
 "nbformat": 4,
 "nbformat_minor": 5
}
